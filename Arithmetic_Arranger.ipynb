{
  "nbformat": 4,
  "nbformat_minor": 0,
  "metadata": {
    "colab": {
      "provenance": [],
      "authorship_tag": "ABX9TyPICgV5Ni0G2nWuE0M+OcNi",
      "include_colab_link": true
    },
    "kernelspec": {
      "name": "python3",
      "display_name": "Python 3"
    },
    "language_info": {
      "name": "python"
    }
  },
  "cells": [
    {
      "cell_type": "markdown",
      "metadata": {
        "id": "view-in-github",
        "colab_type": "text"
      },
      "source": [
        "<a href=\"https://colab.research.google.com/github/Hazabaijan/FreeCodeCamp_Curriculum/blob/main/Arithmetic_Arranger.ipynb\" target=\"_parent\"><img src=\"https://colab.research.google.com/assets/colab-badge.svg\" alt=\"Open In Colab\"/></a>"
      ]
    },
    {
      "cell_type": "code",
      "execution_count": 2,
      "metadata": {
        "colab": {
          "base_uri": "https://localhost:8080/"
        },
        "id": "ogp_IQDRo_RK",
        "outputId": "318a93ca-f48b-4ce4-dc05-82d704983732"
      },
      "outputs": [
        {
          "output_type": "stream",
          "name": "stdout",
          "text": [
            "  11      3801      1      123         1\n",
            "+  4    - 2999    + 2    +  49    - 9380\n",
            "----    ------    ---    -----    ------\n",
            "  15       802      3      172     -9379\n"
          ]
        }
      ],
      "source": [
        "def arithmetic_arranger(problems, show_answers=False, maximum_width=4):\n",
        "\n",
        "    #CREATE EMPTY LISTS FOR VARIABLES\n",
        "    first_numbers = []\n",
        "    operators = []\n",
        "    second_numbers = []\n",
        "    results = []\n",
        "    separators = []\n",
        "\n",
        "    for problem in problems:\n",
        "        num1, operator, num2 = problem.split()\n",
        "        #ENSURES ITS ONLY DIGITS\n",
        "        if not num1.isdigit() or not num2.isdigit():\n",
        "            return \"Error: Numbers must only contain digits.\"\n",
        "\n",
        "        if len(problems) > 5:\n",
        "            return \"Error: Too many problems.\"\n",
        "\n",
        "\n",
        "        #SETS MAXIMUM WIDTH FOR FOUR\n",
        "        width = max(len(num1), len(num2)) + 2\n",
        "\n",
        "        if width > maximum_width + 2:\n",
        "            return \"Error: Numbers cannot be more than four digits.\"\n",
        "\n",
        "        if operator == '+':\n",
        "            result = str(int(num1) + int(num2))\n",
        "        elif operator == '-':\n",
        "            result = str(int(num1) - int(num2))\n",
        "        else:\n",
        "            return \"Error: Operator must be '+' or '-'.\"\n",
        "\n",
        "        #RIGHT ALIGNS NUMBERS WITH RESULTS\n",
        "        first_numbers.append(num1.rjust(width))\n",
        "        second_numbers.append(operator + ' ' + num2.rjust(width - 2))\n",
        "        results.append(result.rjust(width))\n",
        "        separators.append('-' * width)\n",
        "\n",
        "    first_line = '    '.join(first_numbers)\n",
        "    second_line = '    '.join(second_numbers)\n",
        "    separator_line = '    '.join(separators)\n",
        "    results_line = '    '.join(results)\n",
        "\n",
        "    if show_answers:\n",
        "        arithmetic_problem = f\"{first_line}\\n{second_line}\\n{separator_line}\\n{results_line}\"\n",
        "    else:\n",
        "        arithmetic_problem = f\"{first_line}\\n{second_line}\\n{separator_line}\"\n",
        "\n",
        "    return arithmetic_problem\n",
        "\n",
        "\n",
        "#EXAMPLE USAGE\n",
        "print(arithmetic_arranger([\"11 + 4\", \"3801 - 2999\", \"1 + 2\", \"123 + 49\", \"1 - 9380\"], show_answers=True))\n"
      ]
    }
  ]
}