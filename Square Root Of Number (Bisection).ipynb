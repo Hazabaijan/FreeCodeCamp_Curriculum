{
  "nbformat": 4,
  "nbformat_minor": 0,
  "metadata": {
    "colab": {
      "provenance": [],
      "authorship_tag": "ABX9TyMvyPl2mbFTd0sQDqXo31Ua",
      "include_colab_link": true
    },
    "kernelspec": {
      "name": "python3",
      "display_name": "Python 3"
    },
    "language_info": {
      "name": "python"
    }
  },
  "cells": [
    {
      "cell_type": "markdown",
      "metadata": {
        "id": "view-in-github",
        "colab_type": "text"
      },
      "source": [
        "<a href=\"https://colab.research.google.com/github/Hazabaijan/FreeCodeCamp_Curriculum/blob/main/Square%20Root%20Of%20Number%20(Bisection).ipynb\" target=\"_parent\"><img src=\"https://colab.research.google.com/assets/colab-badge.svg\" alt=\"Open In Colab\"/></a>"
      ]
    },
    {
      "cell_type": "code",
      "execution_count": null,
      "metadata": {
        "id": "runEYrfMLpzz"
      },
      "outputs": [],
      "source": [
        "def square_root_bisection(square_target, tolerance=1e-7, max_iterations=100):\n",
        "\n",
        "    #RAISE ERROR IF SQARE TARGET IS A NEGATIC NUMBER\n",
        "    if square_target < 0:\n",
        "        raise ValueError('Square root of negative number is not defined in real numbers')\n",
        "\n",
        "    #IF ONE, SIMPLY PRINT THAT THE SQUARE ROOT OF 1 IS 1\n",
        "    if square_target == 1:\n",
        "        root = 1\n",
        "        print(f'The square root of {square_target} is 1')\n",
        "\n",
        "    #IF THE SQUARE TARGET IS O, SIMPLY PRINT THAT THE SQUARE ROOT OF 0 IS 0\n",
        "    elif square_target == 0:\n",
        "        root = 0\n",
        "        print(f'The square root of {square_target} is 0')\n",
        "\n",
        "\n",
        "    else:\n",
        "        low = 0\n",
        "        high = max(1, square_target)\n",
        "        root = None\n",
        "\n",
        "        for _ in range(max_iterations):\n",
        "            mid = (low + high) / 2\n",
        "            square_mid = mid**2\n",
        "\n",
        "            if abs(square_mid - square_target) < tolerance:\n",
        "                root = mid\n",
        "                break\n",
        "\n",
        "            elif square_mid < square_target:\n",
        "                low = mid\n",
        "            else:\n",
        "                high = mid\n",
        "\n",
        "        if root is None:\n",
        "            print(f\"Failed to converge within {max_iterations} iterations.\")\n",
        "\n",
        "        else:\n",
        "            print(f'The square root of {square_target} is approximately {root}')\n",
        "\n",
        "    return root\n",
        "\n",
        "N = 16\n",
        "\n",
        "square_root_bisection(N)"
      ]
    }
  ]
}