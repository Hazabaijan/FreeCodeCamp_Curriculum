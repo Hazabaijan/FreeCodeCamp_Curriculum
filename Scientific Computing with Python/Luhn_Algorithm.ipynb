{
  "nbformat": 4,
  "nbformat_minor": 0,
  "metadata": {
    "colab": {
      "provenance": [],
      "authorship_tag": "ABX9TyN0gq3sI/6NuS1c0AgO/d5U",
      "include_colab_link": true
    },
    "kernelspec": {
      "name": "python3",
      "display_name": "Python 3"
    },
    "language_info": {
      "name": "python"
    }
  },
  "cells": [
    {
      "cell_type": "markdown",
      "metadata": {
        "id": "view-in-github",
        "colab_type": "text"
      },
      "source": [
        "<a href=\"https://colab.research.google.com/github/Hazabaijan/FreeCodeCamp_Curriculum/blob/main/Luhn_Algorithm.ipynb\" target=\"_parent\"><img src=\"https://colab.research.google.com/assets/colab-badge.svg\" alt=\"Open In Colab\"/></a>"
      ]
    },
    {
      "cell_type": "code",
      "execution_count": 3,
      "metadata": {
        "colab": {
          "base_uri": "https://localhost:8080/"
        },
        "id": "6SEY1Py_gm-J",
        "outputId": "0313f8a7-74e0-4974-bd77-ab7690f33523"
      },
      "outputs": [
        {
          "output_type": "stream",
          "name": "stdout",
          "text": [
            "INVALID!\n"
          ]
        }
      ],
      "source": [
        "#CHECKS IF CARD IS VALID BASED ON THE LUHN ALGORITHM\n",
        "def verify_card_number(card_number):\n",
        "    sum_of_odd_digits = 0\n",
        "\n",
        "    #REVERSES CARD NUMBER\n",
        "    card_number_reversed = card_number[::-1]\n",
        "\n",
        "    #ONLY ODD DIGITS OF CARD NUMBER\n",
        "    odd_digits = card_number_reversed[::2]\n",
        "\n",
        "    #FINDS THE SUM OF ALL ODD DIGITS\n",
        "    for digit in odd_digits:\n",
        "        sum_of_odd_digits += int(digit)\n",
        "\n",
        "    #CALCULATES THE SUM OF ALL EVEN DIGITS\n",
        "    sum_of_even_digits = 0\n",
        "    even_digits = card_number_reversed[1::2]\n",
        "    for digit in even_digits:\n",
        "        number = int(digit) * 2\n",
        "        if number >= 10:\n",
        "            number = (number // 10) + (number % 10)\n",
        "        sum_of_even_digits += number\n",
        "\n",
        "    #FINDS SUM OF BOTH ODD AND EVEN DIGITS\n",
        "    total = sum_of_odd_digits + sum_of_even_digits\n",
        "\n",
        "    #RETURNS 'TRUE' IF TOTAL SUM IS DIVISABLE BY 10\n",
        "    return total % 10 == 0\n",
        "\n",
        "#INITIALISES CARD NUMBER AND REMOVES ANY INVALID CHARACTERS ('-'/' ')\n",
        "def main():\n",
        "    card_number = '4111-1111-4555-1141'\n",
        "    card_translation = str.maketrans({'-': '', ' ': ''})\n",
        "    translated_card_number = card_number.translate(card_translation)\n",
        "\n",
        "    #IF TRUE, PRINT 'VALID!', OTHERWISE 'INVALID!'\n",
        "    if verify_card_number(translated_card_number):\n",
        "        print('VALID!')\n",
        "    else:\n",
        "        print('INVALID!')\n",
        "\n",
        "main()"
      ]
    }
  ]
}