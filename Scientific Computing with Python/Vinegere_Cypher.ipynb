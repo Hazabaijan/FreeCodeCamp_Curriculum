{
  "nbformat": 4,
  "nbformat_minor": 0,
  "metadata": {
    "colab": {
      "provenance": [],
      "authorship_tag": "ABX9TyMW9/kD5+Z7Mr8tJTU3shnB",
      "include_colab_link": true
    },
    "kernelspec": {
      "name": "python3",
      "display_name": "Python 3"
    },
    "language_info": {
      "name": "python"
    }
  },
  "cells": [
    {
      "cell_type": "markdown",
      "metadata": {
        "id": "view-in-github",
        "colab_type": "text"
      },
      "source": [
        "<a href=\"https://colab.research.google.com/github/Hazabaijan/FreeCodeCamp_Curriculum/blob/main/Vinegere_Cypher.ipynb\" target=\"_parent\"><img src=\"https://colab.research.google.com/assets/colab-badge.svg\" alt=\"Open In Colab\"/></a>"
      ]
    },
    {
      "cell_type": "code",
      "execution_count": 3,
      "metadata": {
        "colab": {
          "base_uri": "https://localhost:8080/"
        },
        "id": "GeHZ-WvnbHS3",
        "outputId": "d9e63431-5503-4f3a-b722-a55b1b575676"
      },
      "outputs": [
        {
          "output_type": "stream",
          "name": "stdout",
          "text": [
            "\n",
            "Encrypted text: mrttaqrhknsw ih puggrur\n",
            "Key: happycoding\n",
            "\n",
            "Decrypted text: freecodecamp is awesome\n",
            "\n"
          ]
        }
      ],
      "source": [
        "#ENCRYPTED TEXT TO BE DECYPHERED\n",
        "text = 'mrttaqrhknsw ih puggrur'\n",
        "\n",
        "#KEY USED TO DECYPHER MESSAGE\n",
        "custom_key = 'happycoding'\n",
        "\n",
        "#TYPE OF CYPHER: VIGENERE\n",
        "def vigenere(message, key, direction=1):\n",
        "    key_index = 0\n",
        "    alphabet = 'abcdefghijklmnopqrstuvwxyz'\n",
        "    final_message = ''\n",
        "\n",
        "    #CONVERTS ALL LETTERS TO LOWERCASE\n",
        "    for char in message.lower():\n",
        "\n",
        "        #APPENDS ANY NONE LETTER CHARACTERS TO MESSAGE (IF NOT A LETTER, AUTOMATICALLY APPEND TO FINAL MESSAGE)\n",
        "        if not char.isalpha():\n",
        "            final_message += char\n",
        "        else:\n",
        "            #THE CHARACTER IS ENCODING USING A CORRESPONDING CHARACTER WITHIN THE KEY\n",
        "            key_char = key[key_index % len(key)]\n",
        "            key_index += 1\n",
        "\n",
        "            #DEFINES THE OFFSET OF THE ENCRYPTED/DECRYPTED CHARACTER AND INCRIMENTS ACCORDINGLY\n",
        "            offset = alphabet.index(key_char)\n",
        "            index = alphabet.find(char)\n",
        "            new_index = (index + offset*direction) % len(alphabet)\n",
        "            final_message += alphabet[new_index]\n",
        "\n",
        "    return final_message\n",
        "\n",
        "#CAN BOTH ENCRYPT\n",
        "def encrypt(message, key):\n",
        "    return vigenere(message, key)\n",
        "\n",
        "#AND DECRYPT\n",
        "def decrypt(message, key):\n",
        "    return vigenere(message, key, -1)\n",
        "\n",
        "print(f'\\nEncrypted text: {text}')\n",
        "print(f'Key: {custom_key}')\n",
        "decryption = decrypt(text, custom_key)\n",
        "print(f'\\nDecrypted text: {decryption}\\n')"
      ]
    },
    {
      "cell_type": "code",
      "source": [],
      "metadata": {
        "id": "fNgrT4YkbhBm"
      },
      "execution_count": null,
      "outputs": []
    }
  ]
}