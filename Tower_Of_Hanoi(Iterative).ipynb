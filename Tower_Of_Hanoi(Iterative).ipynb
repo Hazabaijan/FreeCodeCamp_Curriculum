{
  "nbformat": 4,
  "nbformat_minor": 0,
  "metadata": {
    "colab": {
      "provenance": [],
      "authorship_tag": "ABX9TyOISApMKx4VJ+Uj+skAW8NC",
      "include_colab_link": true
    },
    "kernelspec": {
      "name": "python3",
      "display_name": "Python 3"
    },
    "language_info": {
      "name": "python"
    }
  },
  "cells": [
    {
      "cell_type": "markdown",
      "metadata": {
        "id": "view-in-github",
        "colab_type": "text"
      },
      "source": [
        "<a href=\"https://colab.research.google.com/github/Hazabaijan/FreeCodeCamp_Curriculum/blob/main/Tower_Of_Hanoi(Iterative).ipynb\" target=\"_parent\"><img src=\"https://colab.research.google.com/assets/colab-badge.svg\" alt=\"Open In Colab\"/></a>"
      ]
    },
    {
      "cell_type": "code",
      "execution_count": null,
      "metadata": {
        "id": "EIu7msHeJ_34"
      },
      "outputs": [],
      "source": [
        "NUMBER_OF_DISKS = 4\n",
        "number_of_moves = 2 ** NUMBER_OF_DISKS - 1\n",
        "rods = {\n",
        "    'A': list(range(NUMBER_OF_DISKS, 0, -1)),\n",
        "    'B': [],\n",
        "    'C': []\n",
        "}\n",
        "\n",
        "def make_allowed_move(rod1, rod2):\n",
        "    forward = False\n",
        "    if not rods[rod2]:\n",
        "        forward = True\n",
        "    elif rods[rod1] and rods[rod1][-1] < rods[rod2][-1]:\n",
        "        forward = True\n",
        "    if forward:\n",
        "        print(f'Moving disk {rods[rod1][-1]} from {rod1} to {rod2}')\n",
        "        rods[rod2].append(rods[rod1].pop())\n",
        "    else:\n",
        "        print(f'Moving disk {rods[rod2][-1]} from {rod2} to {rod1}')\n",
        "        rods[rod1].append(rods[rod2].pop())\n",
        "\n",
        "    #PROGRESS\n",
        "    print(rods, '\\n')\n",
        "\n",
        "def move(n, source, auxiliary, target):\n",
        "    #STARTING CONFIGURATION\n",
        "    print(rods, '\\n')\n",
        "    for i in range(number_of_moves):\n",
        "        remainder = (i + 1) % 3\n",
        "        if remainder == 1:\n",
        "            if n % 2 != 0:\n",
        "                print(f'Move {i + 1} allowed between {source} and {target}')\n",
        "                make_allowed_move(source, target)\n",
        "            else:\n",
        "                print(f'Move {i + 1} allowed between {source} and {auxiliary}')\n",
        "                make_allowed_move(source, auxiliary)\n",
        "        elif remainder == 2:\n",
        "            if n % 2 != 0:\n",
        "                print(f'Move {i + 1} allowed between {source} and {auxiliary}')\n",
        "                make_allowed_move(source, auxiliary)\n",
        "            else:\n",
        "                print(f'Move {i + 1} allowed between {source} and {target}')\n",
        "                make_allowed_move(source, target)\n",
        "        elif remainder == 0:\n",
        "            print(f'Move {i + 1} allowed between {auxiliary} and {target}')\n",
        "            make_allowed_move(auxiliary, target)\n",
        "\n",
        "#INITIATE THE CALL FROM SOURCE A TO TARGET C\n",
        "move(NUMBER_OF_DISKS, 'A', 'B', 'C')"
      ]
    }
  ]
}