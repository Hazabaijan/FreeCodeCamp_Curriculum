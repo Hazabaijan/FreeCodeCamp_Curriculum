{
  "nbformat": 4,
  "nbformat_minor": 0,
  "metadata": {
    "colab": {
      "provenance": [],
      "authorship_tag": "ABX9TyP7xa441OJVsn3I/AAgowlJ",
      "include_colab_link": true
    },
    "kernelspec": {
      "name": "python3",
      "display_name": "Python 3"
    },
    "language_info": {
      "name": "python"
    }
  },
  "cells": [
    {
      "cell_type": "markdown",
      "metadata": {
        "id": "view-in-github",
        "colab_type": "text"
      },
      "source": [
        "<a href=\"https://colab.research.google.com/github/Hazabaijan/FreeCodeCamp_Curriculum/blob/main/Case_Converter.ipynb\" target=\"_parent\"><img src=\"https://colab.research.google.com/assets/colab-badge.svg\" alt=\"Open In Colab\"/></a>"
      ]
    },
    {
      "cell_type": "code",
      "execution_count": 2,
      "metadata": {
        "colab": {
          "base_uri": "https://localhost:8080/"
        },
        "id": "wmJr4fIZibdh",
        "outputId": "2cf23b28-44f3-4668-a70c-1f444a6f508c"
      },
      "outputs": [
        {
          "output_type": "stream",
          "name": "stdout",
          "text": [
            "i_am_a_pascal_cased_string\n"
          ]
        }
      ],
      "source": [
        "def convert_to_snake_case(pascal_or_camel_cased_string):\n",
        "\n",
        "    #COMPILES LIST, CHECKING IF CHARACTERS ARE UPPER, MAKES THEM LOWER, THEN AND PREPENDS '_'\n",
        "    snake_cased_char_list = [\n",
        "        '_' + char.lower() if char.isupper()\n",
        "        else char\n",
        "        for char in pascal_or_camel_cased_string\n",
        "    ]\n",
        "\n",
        "    #RETURNES THE LIST AND STRIPS THE '_' IN ORDER TO CREATE A PASCAL CASED STRING\n",
        "    return ''.join(snake_cased_char_list).strip('_')\n",
        "\n",
        "def main():\n",
        "    print(convert_to_snake_case('IAmAPascalCasedString'))\n",
        "\n",
        "main()"
      ]
    }
  ]
}